{
  "nbformat": 4,
  "nbformat_minor": 0,
  "metadata": {
    "colab": {
      "name": "keras.ipynb",
      "provenance": [],
      "collapsed_sections": [],
      "authorship_tag": "ABX9TyMP8g5su5vkCPLWs30OmK//",
      "include_colab_link": true
    },
    "kernelspec": {
      "name": "python3",
      "display_name": "Python 3"
    }
  },
  "cells": [
    {
      "cell_type": "markdown",
      "metadata": {
        "id": "view-in-github",
        "colab_type": "text"
      },
      "source": [
        "<a href=\"https://colab.research.google.com/github/jammy-bot/keras-to-pytorch/blob/features/keras.ipynb\" target=\"_parent\"><img src=\"https://colab.research.google.com/assets/colab-badge.svg\" alt=\"Open In Colab\"/></a>"
      ]
    },
    {
      "cell_type": "code",
      "metadata": {
        "id": "OBBz9P0W6R3d"
      },
      "source": [
        ""
      ],
      "execution_count": null,
      "outputs": []
    },
    {
      "cell_type": "code",
      "metadata": {
        "id": "b6LlAZc2W-Gg"
      },
      "source": [
        "import numpy as np\n",
        "import pandas as pd\n",
        "\n",
        "from sklearn.model_selection import train_test_split\n",
        "from sklearn import metrics\n",
        "from sklearn import preprocessing\n",
        "\n",
        "from tensorflow.keras.models import Sequential\n",
        "from tensorflow.keras.layers import Dense, Activation\n",
        "\n",
        "from urllib.request import urlretrieve"
      ],
      "execution_count": 1,
      "outputs": []
    },
    {
      "cell_type": "code",
      "metadata": {
        "id": "eAznf_cFXk9m"
      },
      "source": [
        "# reading the dataset\n",
        "iris = 'http://archive.ics.uci.edu/ml/machine-learning-databases/iris/iris.data'\n",
        "urlretrieve(iris)\n",
        "df = pd.read_csv(iris, sep=',')\n",
        "\n",
        "# adding column names to the dataframe\n",
        "df.columns = [\"sepal_length\", \"sepal_width\", \n",
        "              \"petal_length\", \"petal_width\", \n",
        "              \"species\"]\n"
      ],
      "execution_count": 2,
      "outputs": []
    },
    {
      "cell_type": "code",
      "metadata": {
        "colab": {
          "base_uri": "https://localhost:8080/",
          "height": 204
        },
        "id": "dIYNfPU5a39z",
        "outputId": "8c118c94-c702-4624-d06c-7fcead34ebff"
      },
      "source": [
        "# viewing a random sample of rows from the dataframe\n",
        "df.sample(5)"
      ],
      "execution_count": 3,
      "outputs": [
        {
          "output_type": "execute_result",
          "data": {
            "text/html": [
              "<div>\n",
              "<style scoped>\n",
              "    .dataframe tbody tr th:only-of-type {\n",
              "        vertical-align: middle;\n",
              "    }\n",
              "\n",
              "    .dataframe tbody tr th {\n",
              "        vertical-align: top;\n",
              "    }\n",
              "\n",
              "    .dataframe thead th {\n",
              "        text-align: right;\n",
              "    }\n",
              "</style>\n",
              "<table border=\"1\" class=\"dataframe\">\n",
              "  <thead>\n",
              "    <tr style=\"text-align: right;\">\n",
              "      <th></th>\n",
              "      <th>sepal_length</th>\n",
              "      <th>sepal_width</th>\n",
              "      <th>petal_length</th>\n",
              "      <th>petal_width</th>\n",
              "      <th>species</th>\n",
              "    </tr>\n",
              "  </thead>\n",
              "  <tbody>\n",
              "    <tr>\n",
              "      <th>93</th>\n",
              "      <td>5.6</td>\n",
              "      <td>2.7</td>\n",
              "      <td>4.2</td>\n",
              "      <td>1.3</td>\n",
              "      <td>Iris-versicolor</td>\n",
              "    </tr>\n",
              "    <tr>\n",
              "      <th>108</th>\n",
              "      <td>7.2</td>\n",
              "      <td>3.6</td>\n",
              "      <td>6.1</td>\n",
              "      <td>2.5</td>\n",
              "      <td>Iris-virginica</td>\n",
              "    </tr>\n",
              "    <tr>\n",
              "      <th>126</th>\n",
              "      <td>6.1</td>\n",
              "      <td>3.0</td>\n",
              "      <td>4.9</td>\n",
              "      <td>1.8</td>\n",
              "      <td>Iris-virginica</td>\n",
              "    </tr>\n",
              "    <tr>\n",
              "      <th>141</th>\n",
              "      <td>5.8</td>\n",
              "      <td>2.7</td>\n",
              "      <td>5.1</td>\n",
              "      <td>1.9</td>\n",
              "      <td>Iris-virginica</td>\n",
              "    </tr>\n",
              "    <tr>\n",
              "      <th>31</th>\n",
              "      <td>5.2</td>\n",
              "      <td>4.1</td>\n",
              "      <td>1.5</td>\n",
              "      <td>0.1</td>\n",
              "      <td>Iris-setosa</td>\n",
              "    </tr>\n",
              "  </tbody>\n",
              "</table>\n",
              "</div>"
            ],
            "text/plain": [
              "     sepal_length  sepal_width  petal_length  petal_width          species\n",
              "93            5.6          2.7           4.2          1.3  Iris-versicolor\n",
              "108           7.2          3.6           6.1          2.5   Iris-virginica\n",
              "126           6.1          3.0           4.9          1.8   Iris-virginica\n",
              "141           5.8          2.7           5.1          1.9   Iris-virginica\n",
              "31            5.2          4.1           1.5          0.1      Iris-setosa"
            ]
          },
          "metadata": {
            "tags": []
          },
          "execution_count": 3
        }
      ]
    },
    {
      "cell_type": "code",
      "metadata": {
        "id": "F7RpWJo-ZjPH"
      },
      "source": [
        "# converting to numpy\n",
        "x = df[[\"sepal_length\", \"sepal_width\", \n",
        "        \"petal_length\", \"petal_width\"]].values\n",
        "\n",
        "dummies = pd.get_dummies(df[\"species\"])\n",
        "species = dummies.columns\n",
        "y = dummies.values"
      ],
      "execution_count": 4,
      "outputs": []
    },
    {
      "cell_type": "code",
      "metadata": {
        "colab": {
          "base_uri": "https://localhost:8080/"
        },
        "id": "5LRhn-qifZU4",
        "outputId": "e9a0ba0a-ce57-4635-f261-216d714d9a36"
      },
      "source": [
        "df.info()"
      ],
      "execution_count": 5,
      "outputs": [
        {
          "output_type": "stream",
          "text": [
            "<class 'pandas.core.frame.DataFrame'>\n",
            "RangeIndex: 149 entries, 0 to 148\n",
            "Data columns (total 5 columns):\n",
            " #   Column        Non-Null Count  Dtype  \n",
            "---  ------        --------------  -----  \n",
            " 0   sepal_length  149 non-null    float64\n",
            " 1   sepal_width   149 non-null    float64\n",
            " 2   petal_length  149 non-null    float64\n",
            " 3   petal_width   149 non-null    float64\n",
            " 4   species       149 non-null    object \n",
            "dtypes: float64(4), object(1)\n",
            "memory usage: 5.9+ KB\n"
          ],
          "name": "stdout"
        }
      ]
    },
    {
      "cell_type": "code",
      "metadata": {
        "colab": {
          "base_uri": "https://localhost:8080/"
        },
        "id": "KnRPifea5MLy",
        "outputId": "2e47fe59-e62e-47dd-82ba-7b7473239e29"
      },
      "source": [
        "df['species'].value_counts()"
      ],
      "execution_count": 6,
      "outputs": [
        {
          "output_type": "execute_result",
          "data": {
            "text/plain": [
              "Iris-virginica     50\n",
              "Iris-versicolor    50\n",
              "Iris-setosa        49\n",
              "Name: species, dtype: int64"
            ]
          },
          "metadata": {
            "tags": []
          },
          "execution_count": 6
        }
      ]
    },
    {
      "cell_type": "code",
      "metadata": {
        "id": "ExPwtZQeaR_j"
      },
      "source": [
        "# splitting into validation and training sets\n",
        "x_train, x_test, y_train, y_test = train_test_split(\n",
        "    x, y, test_size=0.25, random_state = 42)"
      ],
      "execution_count": 7,
      "outputs": []
    },
    {
      "cell_type": "markdown",
      "metadata": {
        "id": "Gk9nslSyaozB"
      },
      "source": [
        "# NN"
      ]
    },
    {
      "cell_type": "code",
      "metadata": {
        "id": "yYkgJtBzdktZ",
        "colab": {
          "base_uri": "https://localhost:8080/"
        },
        "outputId": "3b230d6a-ba65-41ab-b9e1-cff6f370be48"
      },
      "source": [
        "# building the neural network\n",
        "model = Sequential()\n",
        "model.add(Dense(50, input_dim=x.shape[1], activation='relu')) # Hidden 1\n",
        "model.add(Dense(25, activation='relu')) # Hidden 2\n",
        "model.add(Dense(y.shape[1],activation='softmax')) # Output\n",
        "\n",
        "model.compile(loss='categorical_crossentropy', optimizer='adam')\n",
        "model.fit(x_train,y_train,verbose=2,epochs=100)"
      ],
      "execution_count": 8,
      "outputs": [
        {
          "output_type": "stream",
          "text": [
            "Epoch 1/100\n",
            "4/4 - 0s - loss: 1.0976\n",
            "Epoch 2/100\n",
            "4/4 - 0s - loss: 1.0265\n",
            "Epoch 3/100\n",
            "4/4 - 0s - loss: 0.9713\n",
            "Epoch 4/100\n",
            "4/4 - 0s - loss: 0.9380\n",
            "Epoch 5/100\n",
            "4/4 - 0s - loss: 0.9062\n",
            "Epoch 6/100\n",
            "4/4 - 0s - loss: 0.8769\n",
            "Epoch 7/100\n",
            "4/4 - 0s - loss: 0.8484\n",
            "Epoch 8/100\n",
            "4/4 - 0s - loss: 0.8252\n",
            "Epoch 9/100\n",
            "4/4 - 0s - loss: 0.8051\n",
            "Epoch 10/100\n",
            "4/4 - 0s - loss: 0.7850\n",
            "Epoch 11/100\n",
            "4/4 - 0s - loss: 0.7641\n",
            "Epoch 12/100\n",
            "4/4 - 0s - loss: 0.7427\n",
            "Epoch 13/100\n",
            "4/4 - 0s - loss: 0.7228\n",
            "Epoch 14/100\n",
            "4/4 - 0s - loss: 0.7046\n",
            "Epoch 15/100\n",
            "4/4 - 0s - loss: 0.6880\n",
            "Epoch 16/100\n",
            "4/4 - 0s - loss: 0.6708\n",
            "Epoch 17/100\n",
            "4/4 - 0s - loss: 0.6539\n",
            "Epoch 18/100\n",
            "4/4 - 0s - loss: 0.6393\n",
            "Epoch 19/100\n",
            "4/4 - 0s - loss: 0.6255\n",
            "Epoch 20/100\n",
            "4/4 - 0s - loss: 0.6122\n",
            "Epoch 21/100\n",
            "4/4 - 0s - loss: 0.6004\n",
            "Epoch 22/100\n",
            "4/4 - 0s - loss: 0.5881\n",
            "Epoch 23/100\n",
            "4/4 - 0s - loss: 0.5755\n",
            "Epoch 24/100\n",
            "4/4 - 0s - loss: 0.5639\n",
            "Epoch 25/100\n",
            "4/4 - 0s - loss: 0.5472\n",
            "Epoch 26/100\n",
            "4/4 - 0s - loss: 0.5253\n",
            "Epoch 27/100\n",
            "4/4 - 0s - loss: 0.5125\n",
            "Epoch 28/100\n",
            "4/4 - 0s - loss: 0.5024\n",
            "Epoch 29/100\n",
            "4/4 - 0s - loss: 0.4890\n",
            "Epoch 30/100\n",
            "4/4 - 0s - loss: 0.4773\n",
            "Epoch 31/100\n",
            "4/4 - 0s - loss: 0.4663\n",
            "Epoch 32/100\n",
            "4/4 - 0s - loss: 0.4556\n",
            "Epoch 33/100\n",
            "4/4 - 0s - loss: 0.4457\n",
            "Epoch 34/100\n",
            "4/4 - 0s - loss: 0.4364\n",
            "Epoch 35/100\n",
            "4/4 - 0s - loss: 0.4254\n",
            "Epoch 36/100\n",
            "4/4 - 0s - loss: 0.4164\n",
            "Epoch 37/100\n",
            "4/4 - 0s - loss: 0.4071\n",
            "Epoch 38/100\n",
            "4/4 - 0s - loss: 0.3966\n",
            "Epoch 39/100\n",
            "4/4 - 0s - loss: 0.3848\n",
            "Epoch 40/100\n",
            "4/4 - 0s - loss: 0.3680\n",
            "Epoch 41/100\n",
            "4/4 - 0s - loss: 0.3551\n",
            "Epoch 42/100\n",
            "4/4 - 0s - loss: 0.3456\n",
            "Epoch 43/100\n",
            "4/4 - 0s - loss: 0.3344\n",
            "Epoch 44/100\n",
            "4/4 - 0s - loss: 0.3245\n",
            "Epoch 45/100\n",
            "4/4 - 0s - loss: 0.3138\n",
            "Epoch 46/100\n",
            "4/4 - 0s - loss: 0.3029\n",
            "Epoch 47/100\n",
            "4/4 - 0s - loss: 0.2939\n",
            "Epoch 48/100\n",
            "4/4 - 0s - loss: 0.2856\n",
            "Epoch 49/100\n",
            "4/4 - 0s - loss: 0.2766\n",
            "Epoch 50/100\n",
            "4/4 - 0s - loss: 0.2669\n",
            "Epoch 51/100\n",
            "4/4 - 0s - loss: 0.2575\n",
            "Epoch 52/100\n",
            "4/4 - 0s - loss: 0.2532\n",
            "Epoch 53/100\n",
            "4/4 - 0s - loss: 0.2456\n",
            "Epoch 54/100\n",
            "4/4 - 0s - loss: 0.2363\n",
            "Epoch 55/100\n",
            "4/4 - 0s - loss: 0.2274\n",
            "Epoch 56/100\n",
            "4/4 - 0s - loss: 0.2227\n",
            "Epoch 57/100\n",
            "4/4 - 0s - loss: 0.2135\n",
            "Epoch 58/100\n",
            "4/4 - 0s - loss: 0.2104\n",
            "Epoch 59/100\n",
            "4/4 - 0s - loss: 0.2015\n",
            "Epoch 60/100\n",
            "4/4 - 0s - loss: 0.1961\n",
            "Epoch 61/100\n",
            "4/4 - 0s - loss: 0.1918\n",
            "Epoch 62/100\n",
            "4/4 - 0s - loss: 0.1847\n",
            "Epoch 63/100\n",
            "4/4 - 0s - loss: 0.1799\n",
            "Epoch 64/100\n",
            "4/4 - 0s - loss: 0.1740\n",
            "Epoch 65/100\n",
            "4/4 - 0s - loss: 0.1696\n",
            "Epoch 66/100\n",
            "4/4 - 0s - loss: 0.1660\n",
            "Epoch 67/100\n",
            "4/4 - 0s - loss: 0.1612\n",
            "Epoch 68/100\n",
            "4/4 - 0s - loss: 0.1562\n",
            "Epoch 69/100\n",
            "4/4 - 0s - loss: 0.1520\n",
            "Epoch 70/100\n",
            "4/4 - 0s - loss: 0.1480\n",
            "Epoch 71/100\n",
            "4/4 - 0s - loss: 0.1445\n",
            "Epoch 72/100\n",
            "4/4 - 0s - loss: 0.1404\n",
            "Epoch 73/100\n",
            "4/4 - 0s - loss: 0.1371\n",
            "Epoch 74/100\n",
            "4/4 - 0s - loss: 0.1338\n",
            "Epoch 75/100\n",
            "4/4 - 0s - loss: 0.1305\n",
            "Epoch 76/100\n",
            "4/4 - 0s - loss: 0.1277\n",
            "Epoch 77/100\n",
            "4/4 - 0s - loss: 0.1244\n",
            "Epoch 78/100\n",
            "4/4 - 0s - loss: 0.1214\n",
            "Epoch 79/100\n",
            "4/4 - 0s - loss: 0.1224\n",
            "Epoch 80/100\n",
            "4/4 - 0s - loss: 0.1152\n",
            "Epoch 81/100\n",
            "4/4 - 0s - loss: 0.1181\n",
            "Epoch 82/100\n",
            "4/4 - 0s - loss: 0.1143\n",
            "Epoch 83/100\n",
            "4/4 - 0s - loss: 0.1177\n",
            "Epoch 84/100\n",
            "4/4 - 0s - loss: 0.1168\n",
            "Epoch 85/100\n",
            "4/4 - 0s - loss: 0.1042\n",
            "Epoch 86/100\n",
            "4/4 - 0s - loss: 0.1051\n",
            "Epoch 87/100\n",
            "4/4 - 0s - loss: 0.1031\n",
            "Epoch 88/100\n",
            "4/4 - 0s - loss: 0.1017\n",
            "Epoch 89/100\n",
            "4/4 - 0s - loss: 0.0975\n",
            "Epoch 90/100\n",
            "4/4 - 0s - loss: 0.0956\n",
            "Epoch 91/100\n",
            "4/4 - 0s - loss: 0.0953\n",
            "Epoch 92/100\n",
            "4/4 - 0s - loss: 0.0925\n",
            "Epoch 93/100\n",
            "4/4 - 0s - loss: 0.0917\n",
            "Epoch 94/100\n",
            "4/4 - 0s - loss: 0.0912\n",
            "Epoch 95/100\n",
            "4/4 - 0s - loss: 0.0885\n",
            "Epoch 96/100\n",
            "4/4 - 0s - loss: 0.0885\n",
            "Epoch 97/100\n",
            "4/4 - 0s - loss: 0.0857\n",
            "Epoch 98/100\n",
            "4/4 - 0s - loss: 0.0866\n",
            "Epoch 99/100\n",
            "4/4 - 0s - loss: 0.0847\n",
            "Epoch 100/100\n",
            "4/4 - 0s - loss: 0.0805\n"
          ],
          "name": "stdout"
        },
        {
          "output_type": "execute_result",
          "data": {
            "text/plain": [
              "<tensorflow.python.keras.callbacks.History at 0x7ff2bf989f98>"
            ]
          },
          "metadata": {
            "tags": []
          },
          "execution_count": 8
        }
      ]
    },
    {
      "cell_type": "markdown",
      "metadata": {
        "id": "LolBC2uNcMQn"
      },
      "source": [
        "# Evaluate Accuracy"
      ]
    },
    {
      "cell_type": "code",
      "metadata": {
        "id": "oTRAMx4GcMQn",
        "colab": {
          "base_uri": "https://localhost:8080/"
        },
        "outputId": "bd752925-d608-4eb2-829b-3becd5df183c"
      },
      "source": [
        "from sklearn.metrics import accuracy_score\n",
        "\n",
        "pred = model.predict(x_test)\n",
        "predict_classes = np.argmax(pred,axis=1)\n",
        "expected_classes = np.argmax(y_test,axis=1)\n",
        "\n",
        "correct = accuracy_score(expected_classes,predict_classes)\n",
        "print(f\"Accuracy: {correct}\")"
      ],
      "execution_count": 9,
      "outputs": [
        {
          "output_type": "stream",
          "text": [
            "Accuracy: 0.9473684210526315\n"
          ],
          "name": "stdout"
        }
      ]
    },
    {
      "cell_type": "code",
      "metadata": {
        "id": "O1wBKvVBkibg"
      },
      "source": [
        ""
      ],
      "execution_count": 9,
      "outputs": []
    }
  ]
}