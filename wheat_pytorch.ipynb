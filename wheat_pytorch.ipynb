{
  "nbformat": 4,
  "nbformat_minor": 0,
  "metadata": {
    "colab": {
      "name": "wheat-pytorch.ipynb",
      "provenance": [],
      "collapsed_sections": [],
      "authorship_tag": "ABX9TyNbFiAtXWWuEufnFohtBfQ1",
      "include_colab_link": true
    },
    "kernelspec": {
      "name": "python3",
      "display_name": "Python 3"
    }
  },
  "cells": [
    {
      "cell_type": "markdown",
      "metadata": {
        "id": "view-in-github",
        "colab_type": "text"
      },
      "source": [
        "<a href=\"https://colab.research.google.com/github/jammy-bot/keras-to-pytorch/blob/features/wheat_pytorch.ipynb\" target=\"_parent\"><img src=\"https://colab.research.google.com/assets/colab-badge.svg\" alt=\"Open In Colab\"/></a>"
      ]
    },
    {
      "cell_type": "markdown",
      "metadata": {
        "id": "Kspq9vqvbtbM"
      },
      "source": [
        "https://archive.ics.uci.edu/ml/datasets/seeds\n",
        "\n",
        "Abstract: Measurements of geometrical properties of kernels belonging to three different varieties of wheat. A soft X-ray technique and GRAINS package were used to construct all seven, real-valued attributes.\n",
        "\n",
        "Attribute Information:\n",
        "\n",
        "To construct the data, seven geometric parameters of wheat kernels were measured:\n",
        "1. area A,\n",
        "2. perimeter P,\n",
        "3. compactness C = 4*pi*A/P^2,\n",
        "4. length of kernel,\n",
        "5. width of kernel,\n",
        "6. asymmetry coefficient\n",
        "7. length of kernel groove.\n",
        "All of these parameters were real-valued continuous.\n",
        "\n"
      ]
    },
    {
      "cell_type": "code",
      "metadata": {
        "id": "b6LlAZc2W-Gg"
      },
      "source": [
        "import numpy as np\n",
        "import pandas as pd\n",
        "\n",
        "from sklearn.model_selection import train_test_split\n",
        "from sklearn import metrics\n",
        "from sklearn import preprocessing\n",
        "\n",
        "from urllib.request import urlretrieve"
      ],
      "execution_count": 1,
      "outputs": []
    },
    {
      "cell_type": "code",
      "metadata": {
        "id": "eAznf_cFXk9m"
      },
      "source": [
        "# reading the dataset\n",
        "seeds = 'https://archive.ics.uci.edu/ml/machine-learning-databases/00236/seeds_dataset.txt'\n",
        "urlretrieve(seeds)\n",
        "\n",
        "# delimiting values separated by spaces of various lengths\n",
        "df = pd.read_csv(seeds, delim_whitespace=True)"
      ],
      "execution_count": 2,
      "outputs": []
    },
    {
      "cell_type": "code",
      "metadata": {
        "id": "SObQ5W7Yc2v7"
      },
      "source": [
        "# adding column names to the dataframe\n",
        "df.columns = [\"A\", \"P\", \"C\", \"kernel_length\", \"kernel_width\", \n",
        "              \"asymmetry\", \"groove_length\", \"variety\"]"
      ],
      "execution_count": 3,
      "outputs": []
    },
    {
      "cell_type": "code",
      "metadata": {
        "colab": {
          "base_uri": "https://localhost:8080/"
        },
        "id": "aFr31AtDc7hU",
        "outputId": "330aa2ac-040c-4462-d7a7-f898142bac80"
      },
      "source": [
        "df.info()"
      ],
      "execution_count": 4,
      "outputs": [
        {
          "output_type": "stream",
          "text": [
            "<class 'pandas.core.frame.DataFrame'>\n",
            "RangeIndex: 209 entries, 0 to 208\n",
            "Data columns (total 8 columns):\n",
            " #   Column         Non-Null Count  Dtype  \n",
            "---  ------         --------------  -----  \n",
            " 0   A              209 non-null    float64\n",
            " 1   P              209 non-null    float64\n",
            " 2   C              209 non-null    float64\n",
            " 3   kernel_length  209 non-null    float64\n",
            " 4   kernel_width   209 non-null    float64\n",
            " 5   asymmetry      209 non-null    float64\n",
            " 6   groove_length  209 non-null    float64\n",
            " 7   variety        209 non-null    int64  \n",
            "dtypes: float64(7), int64(1)\n",
            "memory usage: 13.2 KB\n"
          ],
          "name": "stdout"
        }
      ]
    },
    {
      "cell_type": "code",
      "metadata": {
        "colab": {
          "base_uri": "https://localhost:8080/",
          "height": 297
        },
        "id": "HtOrzT4-gHsT",
        "outputId": "f81d37f7-382a-414d-c288-56a826aa22dc"
      },
      "source": [
        "# view basic statistics for variables\n",
        "df.iloc[:, :-1].describe()"
      ],
      "execution_count": 5,
      "outputs": [
        {
          "output_type": "execute_result",
          "data": {
            "text/html": [
              "<div>\n",
              "<style scoped>\n",
              "    .dataframe tbody tr th:only-of-type {\n",
              "        vertical-align: middle;\n",
              "    }\n",
              "\n",
              "    .dataframe tbody tr th {\n",
              "        vertical-align: top;\n",
              "    }\n",
              "\n",
              "    .dataframe thead th {\n",
              "        text-align: right;\n",
              "    }\n",
              "</style>\n",
              "<table border=\"1\" class=\"dataframe\">\n",
              "  <thead>\n",
              "    <tr style=\"text-align: right;\">\n",
              "      <th></th>\n",
              "      <th>A</th>\n",
              "      <th>P</th>\n",
              "      <th>C</th>\n",
              "      <th>kernel_length</th>\n",
              "      <th>kernel_width</th>\n",
              "      <th>asymmetry</th>\n",
              "      <th>groove_length</th>\n",
              "    </tr>\n",
              "  </thead>\n",
              "  <tbody>\n",
              "    <tr>\n",
              "      <th>count</th>\n",
              "      <td>209.000000</td>\n",
              "      <td>209.000000</td>\n",
              "      <td>209.000000</td>\n",
              "      <td>209.000000</td>\n",
              "      <td>209.000000</td>\n",
              "      <td>209.000000</td>\n",
              "      <td>209.000000</td>\n",
              "    </tr>\n",
              "    <tr>\n",
              "      <th>mean</th>\n",
              "      <td>14.845550</td>\n",
              "      <td>14.557943</td>\n",
              "      <td>0.870999</td>\n",
              "      <td>5.627890</td>\n",
              "      <td>3.258349</td>\n",
              "      <td>3.707278</td>\n",
              "      <td>5.408971</td>\n",
              "    </tr>\n",
              "    <tr>\n",
              "      <th>std</th>\n",
              "      <td>2.916545</td>\n",
              "      <td>1.308949</td>\n",
              "      <td>0.023686</td>\n",
              "      <td>0.444029</td>\n",
              "      <td>0.378603</td>\n",
              "      <td>1.503657</td>\n",
              "      <td>0.492487</td>\n",
              "    </tr>\n",
              "    <tr>\n",
              "      <th>min</th>\n",
              "      <td>10.590000</td>\n",
              "      <td>12.410000</td>\n",
              "      <td>0.808100</td>\n",
              "      <td>4.899000</td>\n",
              "      <td>2.630000</td>\n",
              "      <td>0.765100</td>\n",
              "      <td>4.519000</td>\n",
              "    </tr>\n",
              "    <tr>\n",
              "      <th>25%</th>\n",
              "      <td>12.260000</td>\n",
              "      <td>13.450000</td>\n",
              "      <td>0.856700</td>\n",
              "      <td>5.262000</td>\n",
              "      <td>2.941000</td>\n",
              "      <td>2.587000</td>\n",
              "      <td>5.045000</td>\n",
              "    </tr>\n",
              "    <tr>\n",
              "      <th>50%</th>\n",
              "      <td>14.340000</td>\n",
              "      <td>14.290000</td>\n",
              "      <td>0.873500</td>\n",
              "      <td>5.520000</td>\n",
              "      <td>3.232000</td>\n",
              "      <td>3.600000</td>\n",
              "      <td>5.224000</td>\n",
              "    </tr>\n",
              "    <tr>\n",
              "      <th>75%</th>\n",
              "      <td>17.320000</td>\n",
              "      <td>15.730000</td>\n",
              "      <td>0.887900</td>\n",
              "      <td>5.980000</td>\n",
              "      <td>3.562000</td>\n",
              "      <td>4.773000</td>\n",
              "      <td>5.877000</td>\n",
              "    </tr>\n",
              "    <tr>\n",
              "      <th>max</th>\n",
              "      <td>21.180000</td>\n",
              "      <td>17.250000</td>\n",
              "      <td>0.918300</td>\n",
              "      <td>6.675000</td>\n",
              "      <td>4.033000</td>\n",
              "      <td>8.456000</td>\n",
              "      <td>6.550000</td>\n",
              "    </tr>\n",
              "  </tbody>\n",
              "</table>\n",
              "</div>"
            ],
            "text/plain": [
              "                A           P  ...   asymmetry  groove_length\n",
              "count  209.000000  209.000000  ...  209.000000     209.000000\n",
              "mean    14.845550   14.557943  ...    3.707278       5.408971\n",
              "std      2.916545    1.308949  ...    1.503657       0.492487\n",
              "min     10.590000   12.410000  ...    0.765100       4.519000\n",
              "25%     12.260000   13.450000  ...    2.587000       5.045000\n",
              "50%     14.340000   14.290000  ...    3.600000       5.224000\n",
              "75%     17.320000   15.730000  ...    4.773000       5.877000\n",
              "max     21.180000   17.250000  ...    8.456000       6.550000\n",
              "\n",
              "[8 rows x 7 columns]"
            ]
          },
          "metadata": {
            "tags": []
          },
          "execution_count": 5
        }
      ]
    },
    {
      "cell_type": "code",
      "metadata": {
        "colab": {
          "base_uri": "https://localhost:8080/",
          "height": 204
        },
        "id": "dIYNfPU5a39z",
        "outputId": "ceef6a01-b11d-4be8-c95f-306f6a277d04"
      },
      "source": [
        "# viewing a random sample of rows from the dataframe\n",
        "df.sample(5)"
      ],
      "execution_count": 6,
      "outputs": [
        {
          "output_type": "execute_result",
          "data": {
            "text/html": [
              "<div>\n",
              "<style scoped>\n",
              "    .dataframe tbody tr th:only-of-type {\n",
              "        vertical-align: middle;\n",
              "    }\n",
              "\n",
              "    .dataframe tbody tr th {\n",
              "        vertical-align: top;\n",
              "    }\n",
              "\n",
              "    .dataframe thead th {\n",
              "        text-align: right;\n",
              "    }\n",
              "</style>\n",
              "<table border=\"1\" class=\"dataframe\">\n",
              "  <thead>\n",
              "    <tr style=\"text-align: right;\">\n",
              "      <th></th>\n",
              "      <th>A</th>\n",
              "      <th>P</th>\n",
              "      <th>C</th>\n",
              "      <th>kernel_length</th>\n",
              "      <th>kernel_width</th>\n",
              "      <th>asymmetry</th>\n",
              "      <th>groove_length</th>\n",
              "      <th>variety</th>\n",
              "    </tr>\n",
              "  </thead>\n",
              "  <tbody>\n",
              "    <tr>\n",
              "      <th>197</th>\n",
              "      <td>12.62</td>\n",
              "      <td>13.67</td>\n",
              "      <td>0.8481</td>\n",
              "      <td>5.410</td>\n",
              "      <td>2.911</td>\n",
              "      <td>3.306</td>\n",
              "      <td>5.231</td>\n",
              "      <td>3</td>\n",
              "    </tr>\n",
              "    <tr>\n",
              "      <th>14</th>\n",
              "      <td>14.59</td>\n",
              "      <td>14.28</td>\n",
              "      <td>0.8993</td>\n",
              "      <td>5.351</td>\n",
              "      <td>3.333</td>\n",
              "      <td>4.185</td>\n",
              "      <td>4.781</td>\n",
              "      <td>1</td>\n",
              "    </tr>\n",
              "    <tr>\n",
              "      <th>163</th>\n",
              "      <td>11.14</td>\n",
              "      <td>12.79</td>\n",
              "      <td>0.8558</td>\n",
              "      <td>5.011</td>\n",
              "      <td>2.794</td>\n",
              "      <td>6.388</td>\n",
              "      <td>5.049</td>\n",
              "      <td>3</td>\n",
              "    </tr>\n",
              "    <tr>\n",
              "      <th>157</th>\n",
              "      <td>11.75</td>\n",
              "      <td>13.52</td>\n",
              "      <td>0.8082</td>\n",
              "      <td>5.444</td>\n",
              "      <td>2.678</td>\n",
              "      <td>4.378</td>\n",
              "      <td>5.310</td>\n",
              "      <td>3</td>\n",
              "    </tr>\n",
              "    <tr>\n",
              "      <th>95</th>\n",
              "      <td>19.31</td>\n",
              "      <td>16.59</td>\n",
              "      <td>0.8815</td>\n",
              "      <td>6.341</td>\n",
              "      <td>3.810</td>\n",
              "      <td>3.477</td>\n",
              "      <td>6.238</td>\n",
              "      <td>2</td>\n",
              "    </tr>\n",
              "  </tbody>\n",
              "</table>\n",
              "</div>"
            ],
            "text/plain": [
              "         A      P       C  ...  asymmetry  groove_length  variety\n",
              "197  12.62  13.67  0.8481  ...      3.306          5.231        3\n",
              "14   14.59  14.28  0.8993  ...      4.185          4.781        1\n",
              "163  11.14  12.79  0.8558  ...      6.388          5.049        3\n",
              "157  11.75  13.52  0.8082  ...      4.378          5.310        3\n",
              "95   19.31  16.59  0.8815  ...      3.477          6.238        2\n",
              "\n",
              "[5 rows x 8 columns]"
            ]
          },
          "metadata": {
            "tags": []
          },
          "execution_count": 6
        }
      ]
    },
    {
      "cell_type": "code",
      "metadata": {
        "colab": {
          "base_uri": "https://localhost:8080/"
        },
        "id": "ZaKxEKskjRyd",
        "outputId": "8a871615-956f-435d-87ae-be45787253a7"
      },
      "source": [
        "df[\"variety\"].value_counts()"
      ],
      "execution_count": 7,
      "outputs": [
        {
          "output_type": "execute_result",
          "data": {
            "text/plain": [
              "3    70\n",
              "2    70\n",
              "1    69\n",
              "Name: variety, dtype: int64"
            ]
          },
          "metadata": {
            "tags": []
          },
          "execution_count": 7
        }
      ]
    },
    {
      "cell_type": "code",
      "metadata": {
        "id": "F7RpWJo-ZjPH"
      },
      "source": [
        "# converting to numpy\n",
        "x = df[[\"A\", \"P\", \"C\", \"kernel_length\", \"kernel_width\", \n",
        "              \"asymmetry\", \"groove_length\"]].values\n",
        "\n",
        "le = preprocessing.LabelEncoder()\n",
        "y = le.fit_transform(df[\"variety\"])\n",
        "variety = le.classes_"
      ],
      "execution_count": 8,
      "outputs": []
    },
    {
      "cell_type": "code",
      "metadata": {
        "colab": {
          "base_uri": "https://localhost:8080/"
        },
        "id": "5LRhn-qifZU4",
        "outputId": "bae0cee9-11c4-4cd2-c2bd-b47b7bcec7f9"
      },
      "source": [
        "print(f\"Variable shape: {x.shape}\\n\")\n",
        "print(f\"Target shape: {y.shape}\")"
      ],
      "execution_count": 9,
      "outputs": [
        {
          "output_type": "stream",
          "text": [
            "Variable shape: (209, 7)\n",
            "\n",
            "Target shape: (209,)\n"
          ],
          "name": "stdout"
        }
      ]
    },
    {
      "cell_type": "code",
      "metadata": {
        "id": "ExPwtZQeaR_j"
      },
      "source": [
        "# splitting into validation and training sets\n",
        "x_train, x_test, y_train, y_test = train_test_split(\n",
        "    x, y, test_size=0.25, random_state = 11)"
      ],
      "execution_count": 10,
      "outputs": []
    },
    {
      "cell_type": "markdown",
      "metadata": {
        "id": "Zc3GJqnkc9xi"
      },
      "source": [
        "# NN"
      ]
    },
    {
      "cell_type": "code",
      "metadata": {
        "id": "cUMi02p9c9xi"
      },
      "source": [
        "# import pytorch library and modules\n",
        "import torch\n",
        "import torch.nn as nn\n",
        "import torch.nn.functional as F\n",
        "from torch.autograd import Variable"
      ],
      "execution_count": 11,
      "outputs": []
    },
    {
      "cell_type": "code",
      "metadata": {
        "id": "Fo6EI0BCqKzW"
      },
      "source": [
        "class Net(nn.Module):\n",
        "    def __init__(self, in_count, output_count):\n",
        "        super(Net, self).__init__()\n",
        "        self.fc1 = nn.Linear(in_count, 70) # first hidden layer\n",
        "        self.fc2 = nn.Linear(70, 35) # 50 form hidden1 to 25 in hidden2\n",
        "        self.fc3 = nn.Linear(35, output_count)\n",
        "        self.LogSoftmax = nn.LogSoftmax(dim=1)\n",
        "    \n",
        "    def forward(self, x):\n",
        "        x = F.relu(self.fc1(x))\n",
        "        x = self.fc2(x)\n",
        "        x = self.fc3(x)\n",
        "        return self.LogSoftmax(x)"
      ],
      "execution_count": 12,
      "outputs": []
    },
    {
      "cell_type": "code",
      "metadata": {
        "id": "BXR83YMcssKw"
      },
      "source": [
        "# converting data to pytorch tensors\n",
        "x_train= Variable(torch.Tensor(x_train).float())\n",
        "x_test= Variable(torch.Tensor(x_test).float())\n",
        "\n",
        "# converting class indexes\n",
        "y_train= Variable(torch.LongTensor(y_train))\n",
        "y_test= Variable(torch.LongTensor(y_test))"
      ],
      "execution_count": 13,
      "outputs": []
    },
    {
      "cell_type": "code",
      "metadata": {
        "colab": {
          "base_uri": "https://localhost:8080/"
        },
        "id": "07c0YQxLt1xf",
        "outputId": "1006b8f0-8da6-4641-85c6-8ef43d497b17"
      },
      "source": [
        "# instantiating the model\n",
        "model = Net(x.shape[1], len(variety)) # number of columns, rows\n",
        "criterion = nn.CrossEntropyLoss() # declaring the loss function\n",
        "optimizer = torch.optim.Adam(model.parameters(),  # parameters are the weights\n",
        "                             lr=0.01)\n",
        "\n",
        "for epoch in range(100):\n",
        "    optimizer.zero_grad()\n",
        "    out = model(x_train)\n",
        "    loss = criterion(out, y_train)\n",
        "    loss.backward() # backward propagation\n",
        "    optimizer.step() # applying the gradients\n",
        "    print(f\"Epoch: {epoch+1}, loss: {loss.item()}\")"
      ],
      "execution_count": 14,
      "outputs": [
        {
          "output_type": "stream",
          "text": [
            "Epoch: 1, loss: 1.8150185346603394\n",
            "Epoch: 2, loss: 3.2424304485321045\n",
            "Epoch: 3, loss: 3.8024401664733887\n",
            "Epoch: 4, loss: 2.967388153076172\n",
            "Epoch: 5, loss: 1.7953919172286987\n",
            "Epoch: 6, loss: 1.624898076057434\n",
            "Epoch: 7, loss: 1.2729932069778442\n",
            "Epoch: 8, loss: 1.2551294565200806\n",
            "Epoch: 9, loss: 1.5043703317642212\n",
            "Epoch: 10, loss: 1.4484364986419678\n",
            "Epoch: 11, loss: 1.2124103307724\n",
            "Epoch: 12, loss: 1.0290194749832153\n",
            "Epoch: 13, loss: 0.9852668642997742\n",
            "Epoch: 14, loss: 1.0320230722427368\n",
            "Epoch: 15, loss: 1.0927050113677979\n",
            "Epoch: 16, loss: 1.115511178970337\n",
            "Epoch: 17, loss: 1.0906785726547241\n",
            "Epoch: 18, loss: 1.0394376516342163\n",
            "Epoch: 19, loss: 0.9864171147346497\n",
            "Epoch: 20, loss: 0.9428744912147522\n",
            "Epoch: 21, loss: 0.9093397259712219\n",
            "Epoch: 22, loss: 0.8850933909416199\n",
            "Epoch: 23, loss: 0.8706239461898804\n",
            "Epoch: 24, loss: 0.8643702268600464\n",
            "Epoch: 25, loss: 0.8611800074577332\n",
            "Epoch: 26, loss: 0.8543314933776855\n",
            "Epoch: 27, loss: 0.8387202620506287\n",
            "Epoch: 28, loss: 0.8131958842277527\n",
            "Epoch: 29, loss: 0.7820499539375305\n",
            "Epoch: 30, loss: 0.753294825553894\n",
            "Epoch: 31, loss: 0.7326211929321289\n",
            "Epoch: 32, loss: 0.7177156209945679\n",
            "Epoch: 33, loss: 0.7022314667701721\n",
            "Epoch: 34, loss: 0.6869485378265381\n",
            "Epoch: 35, loss: 0.6766648292541504\n",
            "Epoch: 36, loss: 0.6675675511360168\n",
            "Epoch: 37, loss: 0.6526420712471008\n",
            "Epoch: 38, loss: 0.6351611614227295\n",
            "Epoch: 39, loss: 0.6203784346580505\n",
            "Epoch: 40, loss: 0.6034564971923828\n",
            "Epoch: 41, loss: 0.582859218120575\n",
            "Epoch: 42, loss: 0.5657513737678528\n",
            "Epoch: 43, loss: 0.5514466762542725\n",
            "Epoch: 44, loss: 0.536169707775116\n",
            "Epoch: 45, loss: 0.5241154432296753\n",
            "Epoch: 46, loss: 0.514752209186554\n",
            "Epoch: 47, loss: 0.5025478601455688\n",
            "Epoch: 48, loss: 0.4902518689632416\n",
            "Epoch: 49, loss: 0.4782317280769348\n",
            "Epoch: 50, loss: 0.4632682800292969\n",
            "Epoch: 51, loss: 0.4497806429862976\n",
            "Epoch: 52, loss: 0.43787238001823425\n",
            "Epoch: 53, loss: 0.4255867004394531\n",
            "Epoch: 54, loss: 0.41602715849876404\n",
            "Epoch: 55, loss: 0.4055274724960327\n",
            "Epoch: 56, loss: 0.39477211236953735\n",
            "Epoch: 57, loss: 0.3841690421104431\n",
            "Epoch: 58, loss: 0.37196704745292664\n",
            "Epoch: 59, loss: 0.3613688349723816\n",
            "Epoch: 60, loss: 0.35066381096839905\n",
            "Epoch: 61, loss: 0.34189966320991516\n",
            "Epoch: 62, loss: 0.33300545811653137\n",
            "Epoch: 63, loss: 0.32439136505126953\n",
            "Epoch: 64, loss: 0.3154062330722809\n",
            "Epoch: 65, loss: 0.30630335211753845\n",
            "Epoch: 66, loss: 0.29795706272125244\n",
            "Epoch: 67, loss: 0.29026252031326294\n",
            "Epoch: 68, loss: 0.2834799587726593\n",
            "Epoch: 69, loss: 0.27685365080833435\n",
            "Epoch: 70, loss: 0.2702995538711548\n",
            "Epoch: 71, loss: 0.26385900378227234\n",
            "Epoch: 72, loss: 0.25761085748672485\n",
            "Epoch: 73, loss: 0.2522448003292084\n",
            "Epoch: 74, loss: 0.24703864753246307\n",
            "Epoch: 75, loss: 0.24244196712970734\n",
            "Epoch: 76, loss: 0.2375067174434662\n",
            "Epoch: 77, loss: 0.23290514945983887\n",
            "Epoch: 78, loss: 0.22857235372066498\n",
            "Epoch: 79, loss: 0.2246004194021225\n",
            "Epoch: 80, loss: 0.2210819572210312\n",
            "Epoch: 81, loss: 0.2174663096666336\n",
            "Epoch: 82, loss: 0.21403327584266663\n",
            "Epoch: 83, loss: 0.21075931191444397\n",
            "Epoch: 84, loss: 0.207656592130661\n",
            "Epoch: 85, loss: 0.20500947535037994\n",
            "Epoch: 86, loss: 0.2024558186531067\n",
            "Epoch: 87, loss: 0.19999529421329498\n",
            "Epoch: 88, loss: 0.19778521358966827\n",
            "Epoch: 89, loss: 0.19563747942447662\n",
            "Epoch: 90, loss: 0.1936439424753189\n",
            "Epoch: 91, loss: 0.19184048473834991\n",
            "Epoch: 92, loss: 0.19002243876457214\n",
            "Epoch: 93, loss: 0.1882513016462326\n",
            "Epoch: 94, loss: 0.18662036955356598\n",
            "Epoch: 95, loss: 0.18503352999687195\n",
            "Epoch: 96, loss: 0.18355485796928406\n",
            "Epoch: 97, loss: 0.18215277791023254\n",
            "Epoch: 98, loss: 0.18081672489643097\n",
            "Epoch: 99, loss: 0.17953403294086456\n",
            "Epoch: 100, loss: 0.17832575738430023\n"
          ],
          "name": "stdout"
        }
      ]
    },
    {
      "cell_type": "markdown",
      "metadata": {
        "id": "G8Ae86GEc9xj"
      },
      "source": [
        "# Evaluate Accuracy"
      ]
    },
    {
      "cell_type": "code",
      "metadata": {
        "id": "gXW6iEemc9xj",
        "colab": {
          "base_uri": "https://localhost:8080/"
        },
        "outputId": "df5996f8-910d-4819-d1da-704896ba5374"
      },
      "source": [
        "from sklearn.metrics import accuracy_score\n",
        "\n",
        "pred = model(x_test)\n",
        "# dunder to ignore the first parameter\n",
        "_ , predict_classes = torch.max(pred,1)\n",
        "\n",
        "correct = accuracy_score(y_test, predict_classes) # (expected_classes,predict_classes)\n",
        "print(f\"Accuracy: {correct}\")"
      ],
      "execution_count": 15,
      "outputs": [
        {
          "output_type": "stream",
          "text": [
            "Accuracy: 0.9056603773584906\n"
          ],
          "name": "stdout"
        }
      ]
    },
    {
      "cell_type": "markdown",
      "metadata": {
        "id": "aJCp1a7brcLu"
      },
      "source": [
        "# ====================="
      ]
    },
    {
      "cell_type": "code",
      "metadata": {
        "colab": {
          "base_uri": "https://localhost:8080/"
        },
        "id": "zaX7oaHdm847",
        "outputId": "d13682a0-8eb6-4515-e93c-47d397be985e"
      },
      "source": [
        "# viewing the dataset's first and last tensors\n",
        "first_tensor = x_test[[0]]\n",
        "print(f\"First Tensor: {first_tensor}\\n\")\n",
        "last_tensor = x_test[[-1]]\n",
        "print(f\"Last Tensor: {last_tensor}\")"
      ],
      "execution_count": 16,
      "outputs": [
        {
          "output_type": "stream",
          "text": [
            "First Tensor: tensor([[18.7200, 16.3400,  0.8810,  6.2190,  3.6840,  2.1880,  6.0970]])\n",
            "\n",
            "Last Tensor: tensor([[12.3000, 13.3400,  0.8684,  5.2430,  2.9740,  5.6370,  5.0630]])\n"
          ],
          "name": "stdout"
        }
      ]
    },
    {
      "cell_type": "code",
      "metadata": {
        "colab": {
          "base_uri": "https://localhost:8080/"
        },
        "id": "uWhIKHy5u_cq",
        "outputId": "2ab43f6f-161f-428b-e05e-23b71c3530a9"
      },
      "source": [
        "# viewing the dataset's first and last item class\n",
        "first_class = y[0] + 1 # add 1 to the index of the first value\n",
        "print(f\"First class: {first_class}\\n\")\n",
        "last_class = y[-1] + 1 # add 1 to the index of the last value\n",
        "print(f\"Last class: {last_class}\")"
      ],
      "execution_count": 17,
      "outputs": [
        {
          "output_type": "stream",
          "text": [
            "First class: 1\n",
            "\n",
            "Last class: 3\n"
          ],
          "name": "stdout"
        }
      ]
    },
    {
      "cell_type": "code",
      "metadata": {
        "colab": {
          "base_uri": "https://localhost:8080/"
        },
        "id": "3xFvoN0Vy3_g",
        "outputId": "ee299414-4f90-4a57-ce61-037056b50c84"
      },
      "source": [
        "pred_check = model(first_tensor)\n",
        "_ , predict_classes = torch.max(pred_check,1)\n",
        "\n",
        "# view the prediction loss for each class\n",
        "print(f\"\\nClass loss: {pred_check}\\n\")\n",
        "# print predicted class by adding 1 to the predicted index\n",
        "print(f\"First class prediction: {predict_classes + 1}\")\n",
        "# print actual\n",
        "print(f\"First class actual: {first_class}\")"
      ],
      "execution_count": 18,
      "outputs": [
        {
          "output_type": "stream",
          "text": [
            "\n",
            "Class loss: tensor([[ -3.7463,  -0.0239, -16.8398]], grad_fn=<LogSoftmaxBackward>)\n",
            "\n",
            "First class prediction: tensor([2])\n",
            "First class actual: 1\n"
          ],
          "name": "stdout"
        }
      ]
    },
    {
      "cell_type": "code",
      "metadata": {
        "colab": {
          "base_uri": "https://localhost:8080/"
        },
        "id": "7Qmbx2oIleR5",
        "outputId": "29fba752-ef9b-4a42-bf1d-bcfa46ed668c"
      },
      "source": [
        "pred_check = model(last_tensor)\n",
        "_ , predict_classes = torch.max(pred_check,1)\n",
        "\n",
        "# view the prediction loss for each class\n",
        "print(f\"\\nClass loss: {pred_check}\\n\")\n",
        "# print predicted class by adding 1 to the predicted index\n",
        "print(f\"Last class prediction: {predict_classes + 1}\")\n",
        "# print actual\n",
        "print(f\"Last class actual: {last_class}\")"
      ],
      "execution_count": 19,
      "outputs": [
        {
          "output_type": "stream",
          "text": [
            "\n",
            "Class loss: tensor([[-3.6273, -8.3868, -0.0272]], grad_fn=<LogSoftmaxBackward>)\n",
            "\n",
            "Last class prediction: tensor([3])\n",
            "Last class actual: 3\n"
          ],
          "name": "stdout"
        }
      ]
    },
    {
      "cell_type": "markdown",
      "metadata": {
        "id": "El30TwD71reR"
      },
      "source": [
        "# ..."
      ]
    },
    {
      "cell_type": "code",
      "metadata": {
        "id": "3MMqbocQ1tEm"
      },
      "source": [
        ""
      ],
      "execution_count": 19,
      "outputs": []
    }
  ]
}